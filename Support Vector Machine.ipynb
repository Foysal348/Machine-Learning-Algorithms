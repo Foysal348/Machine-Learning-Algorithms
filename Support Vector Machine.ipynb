{
 "cells": [
  {
   "cell_type": "code",
   "execution_count": 10,
   "id": "6ab238a1-6074-4ad0-8d3d-af972ea8126b",
   "metadata": {},
   "outputs": [
    {
     "data": {
      "text/plain": [
       "0.9666666666666667"
      ]
     },
     "execution_count": 10,
     "metadata": {},
     "output_type": "execute_result"
    }
   ],
   "source": [
    "#Import\n",
    "import numpy as np\n",
    "import matplotlib.pyplot as plt\n",
    "from sklearn import datasets\n",
    "from sklearn.svm import SVC\n",
    "from sklearn.model_selection import train_test_split\n",
    "\n",
    "#Step 1:Generate Synthetic Data(Two feature for visualization)\n",
    "x,y=datasets.make_classification(n_samples=100, n_features=2,\n",
    "                                     n_redundant=0, n_informative=2,\n",
    "                                     n_clusters_per_class=1,\n",
    "                                     random_state=0)\n",
    "#Step 2: Train Test Split data\n",
    "x_train,x_test,y_train,y_test=train_test_split(x,y,test_size=0.3,random_state=42)\n",
    "\n",
    "#Step 3:Train SVM model\n",
    "model=SVC(kernel='linear')\n",
    "Scaled_data=model.fit(x_train,y_train)\n",
    "#model.score(x_test,y_test)\n",
    "#Step 4:Visualization\n",
    "fig,axes=plt.subplots(1,2,figsize=(12,6))\n",
    "\n",
    "# Create 1st subplots\n",
    "axes[0].scatter(x[:,0],x[:,1],c=y,cmap='plasma',edgecolor='skyblue')\n",
    "axes[0].set_title('Original Data')\n",
    "\n",
    "#Create SVM Decision Boundary\n",
    "def plot_decision_boundary(model,x,y,axes):\n",
    "    x_min,x_max=x[:,0].min()-1,x[:,0].max()+1\n",
    "    y_min,y_max=x[:,1].min()-1,x[:,1].max()+1\n",
    "    xx,yy=np.meshgrid(np.linspace(x_min,x_max,500),\n",
    "                     np.linspace(y_min,y_max,500))\n",
    "    z=model.predict(np.c_[xx.ravel(),yy.ravel()])\n",
    "    z=z.reshape(xx.shape)\n",
    "    axes.contourf(xx,yy,z,alpha=0.3,cmap=plt.cm.coolwarm)\n",
    "    axes.scatter(x[:,0],x[:,1],c=y,edgecolors='skyblue',cmap=plt.cm.coolwarm)\n",
    "    axes.scatter(model.support_vectors_[:,0],\n",
    "                model.support_vectors_[:,1],s=100,facecolors='none',label='Support Vectors')\n",
    "    axes.set_title('SVM Decision Boundary')\n",
    "    axes.legend()\n",
    "\n",
    "plot_decision_boundary(model,x,y,axes[1])\n",
    "\n",
    "plt.show()"
   ]
  },
  {
   "cell_type": "code",
   "execution_count": null,
   "id": "7c58a991-9d06-4757-8905-bba6d66f0f3e",
   "metadata": {},
   "outputs": [],
   "source": []
  },
  {
   "cell_type": "code",
   "execution_count": null,
   "id": "5babce02-123a-40d4-886c-57fb53493273",
   "metadata": {},
   "outputs": [],
   "source": []
  },
  {
   "cell_type": "code",
   "execution_count": null,
   "id": "47dbe6ee-7178-4059-89a5-301202b31cb6",
   "metadata": {},
   "outputs": [],
   "source": []
  }
 ],
 "metadata": {
  "kernelspec": {
   "display_name": "Python [conda env:base] *",
   "language": "python",
   "name": "conda-base-py"
  },
  "language_info": {
   "codemirror_mode": {
    "name": "ipython",
    "version": 3
   },
   "file_extension": ".py",
   "mimetype": "text/x-python",
   "name": "python",
   "nbconvert_exporter": "python",
   "pygments_lexer": "ipython3",
   "version": "3.12.7"
  }
 },
 "nbformat": 4,
 "nbformat_minor": 5
}
